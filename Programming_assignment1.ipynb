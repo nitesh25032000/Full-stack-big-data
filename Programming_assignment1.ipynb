{
 "cells": [
  {
   "cell_type": "code",
   "execution_count": 2,
   "id": "7dff5132-d10a-493d-84a7-8b8adc929baa",
   "metadata": {},
   "outputs": [
    {
     "name": "stdout",
     "output_type": "stream",
     "text": [
      "Hello Python\n"
     ]
    }
   ],
   "source": [
    "1.\n",
    "print(\"Hello Python\")"
   ]
  },
  {
   "cell_type": "code",
   "execution_count": 11,
   "id": "02bcb477-3e04-495f-a7e4-dc2f73cebb27",
   "metadata": {},
   "outputs": [
    {
     "name": "stdin",
     "output_type": "stream",
     "text": [
      "enter the a value: 12\n",
      "enter the b value: 100\n"
     ]
    },
    {
     "name": "stdout",
     "output_type": "stream",
     "text": [
      "112 0.12\n"
     ]
    }
   ],
   "source": [
    "2.\n",
    "a=int(input(\"enter the a value:\"))\n",
    "b=int(input(\"enter the b value:\"))\n",
    "c=a+b\n",
    "d=a/b\n",
    "print(c,d)"
   ]
  },
  {
   "cell_type": "code",
   "execution_count": 12,
   "id": "6ebd2ebe-d3d9-46e6-940e-48d7b7fa0f13",
   "metadata": {},
   "outputs": [
    {
     "name": "stdin",
     "output_type": "stream",
     "text": [
      "enter the b value: 100\n",
      "enter the h value: 400\n"
     ]
    },
    {
     "data": {
      "text/plain": [
       "20000.0"
      ]
     },
     "execution_count": 12,
     "metadata": {},
     "output_type": "execute_result"
    }
   ],
   "source": [
    "3.\n",
    "b=int(input(\"enter the b value:\"))\n",
    "h=int(input(\"enter the h value:\"))\n",
    "A=1/2*b*h\n",
    "A"
   ]
  },
  {
   "cell_type": "code",
   "execution_count": 1,
   "id": "91596160-5fe8-4b3b-87ce-4de8b87b40a6",
   "metadata": {},
   "outputs": [
    {
     "name": "stdin",
     "output_type": "stream",
     "text": [
      "enter the e value: 30\n",
      "enter the f value: 40\n"
     ]
    },
    {
     "name": "stdout",
     "output_type": "stream",
     "text": [
      "the value before swapping: 30 40\n",
      "the value after swapping: 40 30\n"
     ]
    }
   ],
   "source": [
    "4.\n",
    "e=int(input(\"enter the e value:\"))\n",
    "f=int(input(\"enter the f value:\"))\n",
    "print(\"the value before swapping:\",e,f)\n",
    "tmp=e\n",
    "e=f\n",
    "f=tmp\n",
    "print(\"the value after swapping:\",e,tmp)"
   ]
  },
  {
   "cell_type": "code",
   "execution_count": 66,
   "id": "f5654321-48a7-424a-be89-d65d04ba888f",
   "metadata": {},
   "outputs": [
    {
     "name": "stdout",
     "output_type": "stream",
     "text": [
      "20\n"
     ]
    }
   ],
   "source": [
    "5.\n",
    "import random\n",
    "print(random.randint(1,30))"
   ]
  },
  {
   "cell_type": "code",
   "execution_count": null,
   "id": "204f8564-7e91-496e-87ce-d2798ed84050",
   "metadata": {},
   "outputs": [],
   "source": []
  }
 ],
 "metadata": {
  "kernelspec": {
   "display_name": "Python 3 (ipykernel)",
   "language": "python",
   "name": "python3"
  },
  "language_info": {
   "codemirror_mode": {
    "name": "ipython",
    "version": 3
   },
   "file_extension": ".py",
   "mimetype": "text/x-python",
   "name": "python",
   "nbconvert_exporter": "python",
   "pygments_lexer": "ipython3",
   "version": "3.9.12"
  }
 },
 "nbformat": 4,
 "nbformat_minor": 5
}
