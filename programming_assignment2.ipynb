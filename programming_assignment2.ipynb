{
 "cells": [
  {
   "cell_type": "code",
   "execution_count": 16,
   "id": "b6c595d0-ecab-4e1a-8dd0-fbe471801321",
   "metadata": {},
   "outputs": [
    {
     "name": "stdin",
     "output_type": "stream",
     "text": [
      "Enter the Kilo meter: 1000\n"
     ]
    },
    {
     "name": "stdout",
     "output_type": "stream",
     "text": [
      "The conversion from kilomter: {1000} to mile is: {621.371}\n"
     ]
    }
   ],
   "source": [
    "1.\n",
    "km=int(input(\"Enter the Kilo meter:\"))\n",
    "mile=km*0.621371\n",
    "print('The conversion from kilomter:',{km} ,'to mile is:',{mile})"
   ]
  },
  {
   "cell_type": "code",
   "execution_count": 18,
   "id": "15c074d9-81ff-4dfa-8da6-6a01627ebed4",
   "metadata": {},
   "outputs": [
    {
     "name": "stdin",
     "output_type": "stream",
     "text": [
      "Enter the celcius: 98.6\n"
     ]
    },
    {
     "data": {
      "text/plain": [
       "209.48"
      ]
     },
     "execution_count": 18,
     "metadata": {},
     "output_type": "execute_result"
    }
   ],
   "source": [
    "2.\n",
    "c=float(input(\"Enter the celcius:\"))\n",
    "f=(c*9/5)+32\n",
    "f"
   ]
  },
  {
   "cell_type": "code",
   "execution_count": 12,
   "id": "c5b671f5-6f3b-43a8-ae7f-516072d8d88e",
   "metadata": {},
   "outputs": [
    {
     "name": "stdin",
     "output_type": "stream",
     "text": [
      "Enter the year: 2022\n",
      "Enter the month: 10\n"
     ]
    },
    {
     "name": "stdout",
     "output_type": "stream",
     "text": [
      "    October 2022\n",
      "Mo Tu We Th Fr Sa Su\n",
      "                1  2\n",
      " 3  4  5  6  7  8  9\n",
      "10 11 12 13 14 15 16\n",
      "17 18 19 20 21 22 23\n",
      "24 25 26 27 28 29 30\n",
      "31\n",
      "\n"
     ]
    }
   ],
   "source": [
    "3.\n",
    "import calendar\n",
    "yy=int(input(\"Enter the year:\"))\n",
    "mm=int(input(\"Enter the month:\"))\n",
    "\n",
    "print(calendar.month(yy,mm))"
   ]
  },
  {
   "cell_type": "code",
   "execution_count": 17,
   "id": "93fb5714-e1fe-450f-83a2-7d039bf238c0",
   "metadata": {},
   "outputs": [
    {
     "name": "stdin",
     "output_type": "stream",
     "text": [
      "enter a value: 1\n",
      "enter b value: 5\n",
      "enter c value: 6\n"
     ]
    },
    {
     "name": "stdout",
     "output_type": "stream",
     "text": [
      "The roots are: {(-2+0j)} and {(-3+0j)}\n"
     ]
    }
   ],
   "source": [
    "4.\n",
    "import cmath\n",
    "a=int(input(\"enter a value:\"))\n",
    "b=int(input(\"enter b value:\"))\n",
    "c=int(input(\"enter c value:\"))\n",
    "d=(b**2) -(4*a*c)\n",
    "sol1=(-b+cmath.sqrt(d))/(2*a)\n",
    "sol2=(-b-cmath.sqrt(d))/(2*a)\n",
    "print(\"The roots are:\",{sol1},\"and\",{sol2})"
   ]
  },
  {
   "cell_type": "code",
   "execution_count": 31,
   "id": "c920bc9d-0713-44be-b6a3-bb83940192a8",
   "metadata": {},
   "outputs": [
    {
     "name": "stdin",
     "output_type": "stream",
     "text": [
      "Enter A value: 30\n",
      "Enter B value: 40\n"
     ]
    },
    {
     "name": "stdout",
     "output_type": "stream",
     "text": [
      "the value of a and b before swapping: 30 40\n",
      "the value of a and b after swapping: 40 30\n"
     ]
    }
   ],
   "source": [
    "5.\n",
    "a=int(input(\"Enter A value:\"))\n",
    "b=int(input(\"Enter B value:\"))\n",
    "print(\"the value of a and b before swapping:\",a,b)\n",
    "a,b = b,a\n",
    "print(\"the value of a and b after swapping:\",a,b)"
   ]
  },
  {
   "cell_type": "code",
   "execution_count": null,
   "id": "219de411-1e53-461b-bcc7-c4828dd48ecd",
   "metadata": {},
   "outputs": [],
   "source": []
  }
 ],
 "metadata": {
  "kernelspec": {
   "display_name": "Python 3 (ipykernel)",
   "language": "python",
   "name": "python3"
  },
  "language_info": {
   "codemirror_mode": {
    "name": "ipython",
    "version": 3
   },
   "file_extension": ".py",
   "mimetype": "text/x-python",
   "name": "python",
   "nbconvert_exporter": "python",
   "pygments_lexer": "ipython3",
   "version": "3.9.12"
  }
 },
 "nbformat": 4,
 "nbformat_minor": 5
}
