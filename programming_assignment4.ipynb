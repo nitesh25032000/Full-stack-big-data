{
 "cells": [
  {
   "cell_type": "code",
   "execution_count": 43,
   "id": "fead094e-5857-4908-bffc-49f2ca2bb784",
   "metadata": {},
   "outputs": [
    {
     "name": "stdin",
     "output_type": "stream",
     "text": [
      "Enter a number:  5\n"
     ]
    },
    {
     "name": "stdout",
     "output_type": "stream",
     "text": [
      "The factorial of 5 is 1\n"
     ]
    }
   ],
   "source": [
    "1.\n",
    "num = int(input(\"Enter a number: \"))    \n",
    "factorial = 1    \n",
    "if num < 0:    \n",
    "   print(\" Factorial does not exist for negative numbers\")    \n",
    "elif num == 0:    \n",
    "   print(\"The factorial of 0 is 1\")    \n",
    "else:    \n",
    "   for i in range(1,num+1):    \n",
    "       factorial = factorial*i    \n",
    "   print(\"The factorial of\",num,\"is\",factorial)    "
   ]
  },
  {
   "cell_type": "code",
   "execution_count": 1,
   "id": "35bc6292-5cc2-407b-9584-9cba48e12e38",
   "metadata": {},
   "outputs": [
    {
     "name": "stdin",
     "output_type": "stream",
     "text": [
      "enter the a value: 5\n"
     ]
    },
    {
     "name": "stdout",
     "output_type": "stream",
     "text": [
      "5\n",
      "10\n",
      "15\n",
      "20\n",
      "25\n",
      "30\n",
      "35\n",
      "40\n",
      "45\n",
      "50\n"
     ]
    }
   ],
   "source": [
    "2.\n",
    "a=int(input(\"enter the a value:\"))\n",
    "for i in range(0,10):\n",
    "    if a==0:\n",
    "        print(\"invalid number:\",a)\n",
    "        break\n",
    "    else:\n",
    "        while i<10:\n",
    "                i+=1\n",
    "                c=a*i\n",
    "                print(c)\n",
    "                break"
   ]
  },
  {
   "cell_type": "code",
   "execution_count": 23,
   "id": "681ff144-d21e-4e40-acac-5dc4a3598604",
   "metadata": {},
   "outputs": [
    {
     "name": "stdin",
     "output_type": "stream",
     "text": [
      "enter the fibonacci series: 15\n"
     ]
    },
    {
     "name": "stdout",
     "output_type": "stream",
     "text": [
      "0\n",
      "1\n",
      "1\n",
      "2\n",
      "3\n",
      "5\n",
      "8\n",
      "13\n",
      "21\n",
      "34\n",
      "55\n",
      "89\n",
      "144\n",
      "233\n",
      "377\n"
     ]
    }
   ],
   "source": [
    "3.\n",
    "a=int(input(\"enter the fibonacci series:\"))\n",
    "b=0\n",
    "c=1\n",
    "count=0\n",
    "while count<a:\n",
    "    print(b)\n",
    "    if count>a:\n",
    "        break\n",
    "    else:\n",
    "        i=b+c\n",
    "        b=c\n",
    "        c=i\n",
    "        count+=1\n",
    "        "
   ]
  },
  {
   "cell_type": "code",
   "execution_count": null,
   "id": "4a2a1dcc-cea6-4d90-a2dd-447164e0c313",
   "metadata": {},
   "outputs": [],
   "source": [
    "4.# Python program to check if the number is an Armstrong number or not\n",
    "\n",
    "# take input from the user\n",
    "num = int(input(\"Enter a number: \"))\n",
    "\n",
    "# initialize sum\n",
    "sum = 0\n",
    "\n",
    "# find the sum of the cube of each digit\n",
    "temp = num\n",
    "while temp > 0:\n",
    "   digit = temp % 10\n",
    "   sum += digit ** 3\n",
    "   temp //= 10\n",
    "\n",
    "# display the result\n",
    "if num == sum:\n",
    "   print(num,\"is an Armstrong number\")\n",
    "else:\n",
    "   print(num,\"is not an Armstrong number\")\n"
   ]
  },
  {
   "cell_type": "code",
   "execution_count": 39,
   "id": "24693eff-95be-418c-8d4e-a2b4e92da7b0",
   "metadata": {},
   "outputs": [
    {
     "name": "stdin",
     "output_type": "stream",
     "text": [
      "enter lower: 10\n",
      "enter upper: 200\n"
     ]
    },
    {
     "name": "stdout",
     "output_type": "stream",
     "text": [
      "153\n"
     ]
    }
   ],
   "source": [
    "5.# Program to check Armstrong numbers in a certain interval\n",
    "\n",
    "lower = int(input(\"enter lower:\"))\n",
    "upper = int(input(\"enter upper:\"))\n",
    "\n",
    "for num in range(lower, upper + 1):\n",
    "\n",
    "   # order of number\n",
    "   order = len(str(num))\n",
    "    \n",
    "   # initialize sum\n",
    "   sum = 0\n",
    "\n",
    "   temp = num\n",
    "   while temp > 0:\n",
    "       digit = temp % 10\n",
    "       sum += digit ** order\n",
    "       temp //= 10\n",
    "\n",
    "   if num == sum:\n",
    "       print(num)\n"
   ]
  },
  {
   "cell_type": "code",
   "execution_count": null,
   "id": "13c13081-9727-4bda-b383-f9df0ae9a6b3",
   "metadata": {},
   "outputs": [],
   "source": [
    "6..# Sum of natural numbers up to num\n",
    "\n",
    "num = 16\n",
    "\n",
    "if num < 0:\n",
    "   print(\"Enter a positive number\")\n",
    "else:\n",
    "   sum = 0\n",
    "   # use while loop to iterate until zero\n",
    "   while(num > 0):\n",
    "       sum += num\n",
    "       num -= 1\n",
    "   print(\"The sum is\", sum)\n"
   ]
  }
 ],
 "metadata": {
  "kernelspec": {
   "display_name": "Python 3 (ipykernel)",
   "language": "python",
   "name": "python3"
  },
  "language_info": {
   "codemirror_mode": {
    "name": "ipython",
    "version": 3
   },
   "file_extension": ".py",
   "mimetype": "text/x-python",
   "name": "python",
   "nbconvert_exporter": "python",
   "pygments_lexer": "ipython3",
   "version": "3.9.12"
  }
 },
 "nbformat": 4,
 "nbformat_minor": 5
}
